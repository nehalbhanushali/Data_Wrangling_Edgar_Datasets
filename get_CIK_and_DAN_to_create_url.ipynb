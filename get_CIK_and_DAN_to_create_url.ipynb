{
 "cells": [
  {
   "cell_type": "code",
   "execution_count": 25,
   "metadata": {
    "collapsed": false
   },
   "outputs": [
    {
     "name": "stdout",
     "output_type": "stream",
     "text": [
      "Enter CIK (eg :0000051143)0000051143\n",
      "Enter document accession number -DAN (eg :000005114313000007 )000005114313000007 \n",
      "http://www.sec.gov/Archives/edgar/data/51143/000005114313000007/0000051143-13-000007-index.html\n"
     ]
    }
   ],
   "source": [
    "\n",
    "mainUrl = \"http://www.sec.gov/Archives/edgar/data/\"\n",
    "CIK = input(\"Enter CIK (eg :0000051143)\")\n",
    " # DAN has to come from some search results as per problem case\n",
    "DAN = input(\"Enter document accession number -DAN (eg :000005114313000007 )\")\n",
    "CIK = CIK.strip().strip(\"0\")\n",
    "DAN = DAN.strip()\n",
    "partCIK = DAN[0:10]+\"-\"\n",
    "partDAN = DAN[10:12]+\"-\"\n",
    "lastPart = DAN[12:18]+\"-index.html\"\n",
    "\n",
    "completeURL = mainUrl+CIK+\"/\"+DAN+\"/\"+partCIK+partDAN+lastPart\n",
    "print(completeURL)\n"
   ]
  },
  {
   "cell_type": "code",
   "execution_count": null,
   "metadata": {
    "collapsed": true
   },
   "outputs": [],
   "source": []
  }
 ],
 "metadata": {
  "anaconda-cloud": {},
  "kernelspec": {
   "display_name": "Python [default]",
   "language": "python",
   "name": "python3"
  },
  "language_info": {
   "codemirror_mode": {
    "name": "ipython",
    "version": 3
   },
   "file_extension": ".py",
   "mimetype": "text/x-python",
   "name": "python",
   "nbconvert_exporter": "python",
   "pygments_lexer": "ipython3",
   "version": "3.5.2"
  }
 },
 "nbformat": 4,
 "nbformat_minor": 1
}
